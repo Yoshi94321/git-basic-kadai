{
  "cells": [
    {
      "cell_type": "code",
      "execution_count": 29,
      "metadata": {
        "colab": {
          "base_uri": "https://localhost:8080/"
        },
        "id": "v_OSVEOzx0yv",
        "outputId": "d569fcea-bb20-415b-8a35-529e744488ab"
      },
      "outputs": [
        {
          "name": "stdout",
          "output_type": "stream",
          "text": [
            "1320.0円\n"
          ]
        }
      ],
      "source": [
        "# 購入した商品の金額を設定\n",
        "item = 1200\n",
        "\n",
        "#商品の価格に消費税を加えた合計金額を計算する関数\n",
        "def calculate_total_price(price, tax_rate=0.1):\n",
        "\n",
        "  #与えられた引数priceに消費税（１０％）を掛けて、変数totalに代入する\n",
        "    total = price + (price * tax_rate)\n",
        "    return total\n",
        "\n",
        "# 関数を呼び出して合計金額を計算する\n",
        "total_price = calculate_total_price(item)\n",
        "print(f\"合計金額: {total_price}円\")"
      ]
    }
  ],
  "metadata": {
    "colab": {
      "provenance": []
    },
    "kernelspec": {
      "display_name": "Python 3",
      "name": "python3"
    },
    "language_info": {
      "name": "python"
    }
  },
  "nbformat": 4,
  "nbformat_minor": 0
}
