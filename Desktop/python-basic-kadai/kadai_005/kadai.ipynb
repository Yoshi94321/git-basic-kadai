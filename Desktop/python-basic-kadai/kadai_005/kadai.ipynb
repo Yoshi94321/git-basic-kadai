{
  "nbformat": 4,
  "nbformat_minor": 0,
  "metadata": {
    "colab": {
      "provenance": []
    },
    "kernelspec": {
      "name": "python3",
      "display_name": "Python 3"
    },
    "language_info": {
      "name": "python"
    }
  },
  "cells": [
    {
      "cell_type": "markdown",
      "source": [],
      "metadata": {
        "id": "dvO3AgpMLJii"
      }
    },
    {
      "cell_type": "code",
      "source": [
        "# 台形の寸法\n",
        "top_edge = 10  # cm\n",
        "bottom_edge = 20  # cm\n",
        "height = 5   # cm\n",
        "\n",
        "# 台形の面積を計算する\n",
        "area = (top_edge + bottom_edge) * height / 2\n",
        "\n",
        "# 結果の出力\n",
        "print(f\"{area}cm²\")\n"
      ],
      "metadata": {
        "colab": {
          "base_uri": "https://localhost:8080/"
        },
        "id": "IV-kxGCmsZu7",
        "outputId": "b910ce26-aa62-4dc6-d5c9-ffaf59a9546b"
      },
      "execution_count": 8,
      "outputs": [
        {
          "output_type": "stream",
          "name": "stdout",
          "text": [
            "75.0cm²\n"
          ]
        }
      ]
    }
  ]
}